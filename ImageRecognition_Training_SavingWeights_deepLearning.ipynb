{
  "nbformat": 4,
  "nbformat_minor": 0,
  "metadata": {
    "colab": {
      "name": "ImageRecognition_Training_SavingWeights_deepLearning.ipynb",
      "provenance": [],
      "collapsed_sections": []
    },
    "kernelspec": {
      "name": "python3",
      "display_name": "Python 3"
    },
    "language_info": {
      "name": "python"
    }
  },
  "cells": [
    {
      "cell_type": "markdown",
      "metadata": {
        "id": "dfTc-JceMvrC"
      },
      "source": [
        "# Image Recognition Model, step by step\n"
      ]
    },
    {
      "cell_type": "code",
      "metadata": {
        "id": "ES5DZhqQIwll"
      },
      "source": [
        "from tensorflow import keras\n",
        "from keras.datasets import cifar10\n",
        "from keras.models import Sequential\n",
        "from keras.layers import Dense, Dropout, Flatten, Conv2D, MaxPooling2D\n",
        "from pathlib import Path"
      ],
      "execution_count": null,
      "outputs": []
    },
    {
      "cell_type": "code",
      "metadata": {
        "colab": {
          "base_uri": "https://localhost:8080/"
        },
        "id": "n-dGvqGiI5hA",
        "outputId": "14ee4b3a-6487-4edb-b5c3-fcdab07fe8ff"
      },
      "source": [
        "# Load data set\n",
        "(x_train, y_train), (x_test, y_test) = cifar10.load_data()"
      ],
      "execution_count": null,
      "outputs": [
        {
          "output_type": "stream",
          "name": "stdout",
          "text": [
            "Downloading data from https://www.cs.toronto.edu/~kriz/cifar-10-python.tar.gz\n",
            "170500096/170498071 [==============================] - 3s 0us/step\n",
            "170508288/170498071 [==============================] - 3s 0us/step\n"
          ]
        }
      ]
    },
    {
      "cell_type": "code",
      "metadata": {
        "id": "ENG4_xEOI6MW"
      },
      "source": [
        "# Normalize data set to 0-to-1 range\n",
        "x_train = x_train.astype('float32')\n",
        "x_test = x_test.astype('float32')\n",
        "x_train /= 255\n",
        "x_test /= 255"
      ],
      "execution_count": null,
      "outputs": []
    },
    {
      "cell_type": "code",
      "metadata": {
        "id": "cS6trmPyJHDz"
      },
      "source": [
        "# Convert class vectors to binary class matrices\n",
        "y_train = keras.utils.to_categorical(y_train, 10)\n",
        "y_test = keras.utils.to_categorical(y_test, 10)\n"
      ],
      "execution_count": null,
      "outputs": []
    },
    {
      "cell_type": "code",
      "metadata": {
        "id": "JuYEa_njJHXH"
      },
      "source": [
        "# Create a model and add layers\n",
        "model = Sequential()\n",
        "\n",
        "model.add(Conv2D(32, (3, 3), padding='same', input_shape=(32, 32, 3), activation=\"relu\"))\n",
        "model.add(Conv2D(32, (3, 3), activation=\"relu\"))\n",
        "model.add(MaxPooling2D(pool_size=(2, 2)))\n",
        "model.add(Dropout(0.25))\n",
        "\n",
        "model.add(Conv2D(64, (3, 3), padding='same', activation=\"relu\"))\n",
        "model.add(Conv2D(64, (3, 3), activation=\"relu\"))\n",
        "model.add(MaxPooling2D(pool_size=(2, 2)))\n",
        "model.add(Dropout(0.25))\n",
        "\n",
        "model.add(Flatten())\n",
        "model.add(Dense(512, activation=\"relu\"))\n",
        "model.add(Dropout(0.5))\n",
        "model.add(Dense(10, activation=\"softmax\"))\n"
      ],
      "execution_count": null,
      "outputs": []
    },
    {
      "cell_type": "code",
      "metadata": {
        "id": "xuxGNgB_JHjG"
      },
      "source": [
        "# Compile the model\n",
        "model.compile(\n",
        "    loss='categorical_crossentropy',\n",
        "    optimizer='adam',\n",
        "    metrics=['accuracy']\n",
        ")\n"
      ],
      "execution_count": null,
      "outputs": []
    },
    {
      "cell_type": "code",
      "metadata": {
        "id": "Yic1z4w4EEaN"
      },
      "source": [
        "# Print a summary of the model\n",
        "model.summary()"
      ],
      "execution_count": null,
      "outputs": []
    },
    {
      "cell_type": "code",
      "metadata": {
        "colab": {
          "base_uri": "https://localhost:8080/"
        },
        "id": "TQ3rhYWTJHvq",
        "outputId": "180b7e5f-9202-4f72-819f-6db0ecd85427"
      },
      "source": [
        "# Train the model\n",
        "model.fit(\n",
        "    x_train,\n",
        "    y_train,\n",
        "    batch_size=64,\n",
        "    epochs=30,\n",
        "    validation_data=(x_test, y_test),\n",
        "    shuffle=True\n",
        ")\n"
      ],
      "execution_count": null,
      "outputs": [
        {
          "output_type": "stream",
          "name": "stdout",
          "text": [
            "Epoch 1/30\n",
            "782/782 [==============================] - 41s 15ms/step - loss: 1.5339 - accuracy: 0.4410 - val_loss: 1.2388 - val_accuracy: 0.5592\n",
            "Epoch 2/30\n",
            "782/782 [==============================] - 11s 15ms/step - loss: 1.1107 - accuracy: 0.6082 - val_loss: 0.9368 - val_accuracy: 0.6635\n",
            "Epoch 3/30\n",
            "782/782 [==============================] - 11s 15ms/step - loss: 0.9335 - accuracy: 0.6721 - val_loss: 0.8249 - val_accuracy: 0.7134\n",
            "Epoch 4/30\n",
            "782/782 [==============================] - 11s 15ms/step - loss: 0.8282 - accuracy: 0.7111 - val_loss: 0.7450 - val_accuracy: 0.7367\n",
            "Epoch 5/30\n",
            "782/782 [==============================] - 11s 14ms/step - loss: 0.7614 - accuracy: 0.7331 - val_loss: 0.6856 - val_accuracy: 0.7615\n",
            "Epoch 6/30\n",
            "782/782 [==============================] - 11s 14ms/step - loss: 0.7114 - accuracy: 0.7513 - val_loss: 0.6865 - val_accuracy: 0.7602\n",
            "Epoch 7/30\n",
            "782/782 [==============================] - 11s 15ms/step - loss: 0.6638 - accuracy: 0.7669 - val_loss: 0.6583 - val_accuracy: 0.7709\n",
            "Epoch 8/30\n",
            "782/782 [==============================] - 11s 14ms/step - loss: 0.6335 - accuracy: 0.7770 - val_loss: 0.6427 - val_accuracy: 0.7776\n",
            "Epoch 9/30\n",
            "782/782 [==============================] - 11s 14ms/step - loss: 0.5993 - accuracy: 0.7887 - val_loss: 0.6695 - val_accuracy: 0.7693\n",
            "Epoch 10/30\n",
            "782/782 [==============================] - 11s 15ms/step - loss: 0.5684 - accuracy: 0.7988 - val_loss: 0.6213 - val_accuracy: 0.7844\n",
            "Epoch 11/30\n",
            "782/782 [==============================] - 11s 15ms/step - loss: 0.5470 - accuracy: 0.8059 - val_loss: 0.6290 - val_accuracy: 0.7857\n",
            "Epoch 12/30\n",
            "782/782 [==============================] - 12s 15ms/step - loss: 0.5261 - accuracy: 0.8147 - val_loss: 0.6173 - val_accuracy: 0.7901\n",
            "Epoch 13/30\n",
            "782/782 [==============================] - 11s 14ms/step - loss: 0.5042 - accuracy: 0.8206 - val_loss: 0.6078 - val_accuracy: 0.7955\n",
            "Epoch 14/30\n",
            "782/782 [==============================] - 11s 15ms/step - loss: 0.4924 - accuracy: 0.8240 - val_loss: 0.6365 - val_accuracy: 0.7819\n",
            "Epoch 15/30\n",
            "782/782 [==============================] - 12s 15ms/step - loss: 0.4706 - accuracy: 0.8327 - val_loss: 0.6557 - val_accuracy: 0.7857\n",
            "Epoch 16/30\n",
            "782/782 [==============================] - 12s 15ms/step - loss: 0.4635 - accuracy: 0.8360 - val_loss: 0.5972 - val_accuracy: 0.8006\n",
            "Epoch 17/30\n",
            "782/782 [==============================] - 11s 15ms/step - loss: 0.4424 - accuracy: 0.8431 - val_loss: 0.5926 - val_accuracy: 0.8021\n",
            "Epoch 18/30\n",
            "782/782 [==============================] - 11s 14ms/step - loss: 0.4297 - accuracy: 0.8478 - val_loss: 0.6110 - val_accuracy: 0.8032\n",
            "Epoch 19/30\n",
            "782/782 [==============================] - 11s 15ms/step - loss: 0.4163 - accuracy: 0.8522 - val_loss: 0.6258 - val_accuracy: 0.7949\n",
            "Epoch 20/30\n",
            "782/782 [==============================] - 12s 15ms/step - loss: 0.4095 - accuracy: 0.8550 - val_loss: 0.6188 - val_accuracy: 0.8037\n",
            "Epoch 21/30\n",
            "782/782 [==============================] - 11s 15ms/step - loss: 0.4028 - accuracy: 0.8575 - val_loss: 0.6285 - val_accuracy: 0.8038\n",
            "Epoch 22/30\n",
            "782/782 [==============================] - 11s 15ms/step - loss: 0.3896 - accuracy: 0.8623 - val_loss: 0.6223 - val_accuracy: 0.8023\n",
            "Epoch 23/30\n",
            "782/782 [==============================] - 11s 15ms/step - loss: 0.3805 - accuracy: 0.8639 - val_loss: 0.6323 - val_accuracy: 0.8015\n",
            "Epoch 24/30\n",
            "782/782 [==============================] - 11s 15ms/step - loss: 0.3840 - accuracy: 0.8632 - val_loss: 0.6257 - val_accuracy: 0.8038\n",
            "Epoch 25/30\n",
            "782/782 [==============================] - 11s 14ms/step - loss: 0.3706 - accuracy: 0.8680 - val_loss: 0.6364 - val_accuracy: 0.8008\n",
            "Epoch 26/30\n",
            "782/782 [==============================] - 11s 14ms/step - loss: 0.3640 - accuracy: 0.8738 - val_loss: 0.6117 - val_accuracy: 0.8077\n",
            "Epoch 27/30\n",
            "782/782 [==============================] - 12s 15ms/step - loss: 0.3510 - accuracy: 0.8747 - val_loss: 0.6295 - val_accuracy: 0.8127\n",
            "Epoch 28/30\n",
            "782/782 [==============================] - 11s 14ms/step - loss: 0.3597 - accuracy: 0.8748 - val_loss: 0.6142 - val_accuracy: 0.8071\n",
            "Epoch 29/30\n",
            "782/782 [==============================] - 11s 15ms/step - loss: 0.3498 - accuracy: 0.8761 - val_loss: 0.6149 - val_accuracy: 0.8071\n",
            "Epoch 30/30\n",
            "782/782 [==============================] - 11s 14ms/step - loss: 0.3491 - accuracy: 0.8780 - val_loss: 0.6359 - val_accuracy: 0.8057\n"
          ]
        },
        {
          "output_type": "execute_result",
          "data": {
            "text/plain": [
              "<keras.callbacks.History at 0x7fc5b00f5410>"
            ]
          },
          "metadata": {},
          "execution_count": 8
        }
      ]
    },
    {
      "cell_type": "markdown",
      "metadata": {
        "id": "VnF3uSc9NEn6"
      },
      "source": [
        "Create the model and weight files.  Dont forget to download them."
      ]
    },
    {
      "cell_type": "code",
      "metadata": {
        "id": "E9ElHFgjJXVr"
      },
      "source": [
        "\n",
        "# Save neural network structure\n",
        "model_structure = model.to_json()\n",
        "f = Path(\"model_structure.json\")\n",
        "f.write_text(model_structure)\n",
        "\n",
        "# Save neural network's trained weights\n",
        "model.save_weights(\"model_weights.h5\")"
      ],
      "execution_count": null,
      "outputs": []
    }
  ]
}